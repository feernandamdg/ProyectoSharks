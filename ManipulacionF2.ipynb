{
 "cells": [
  {
   "cell_type": "markdown",
   "id": "29c2c215-079b-427c-9375-8c5876e84e75",
   "metadata": {},
   "source": [
    "## ACCESO A BASE DE DATOS "
   ]
  },
  {
   "cell_type": "code",
   "execution_count": 2,
   "id": "3dad495b-2e00-4827-9a1b-bc67251f47b7",
   "metadata": {},
   "outputs": [],
   "source": [
    "import psycopg2 \n",
    "import pandas as pd\n",
    "from sqlalchemy import create_engine \n",
    "import numpy as np\n",
    "import pandas.io.sql as sqlio"
   ]
  },
  {
   "cell_type": "code",
   "execution_count": null,
   "id": "e9b9185e-4d13-43ed-8cf5-7cbaaceec257",
   "metadata": {},
   "outputs": [],
   "source": []
  }
 ],
 "metadata": {
  "kernelspec": {
   "display_name": "Python 3 (ipykernel)",
   "language": "python",
   "name": "python3"
  },
  "language_info": {
   "codemirror_mode": {
    "name": "ipython",
    "version": 3
   },
   "file_extension": ".py",
   "mimetype": "text/x-python",
   "name": "python",
   "nbconvert_exporter": "python",
   "pygments_lexer": "ipython3",
   "version": "3.12.6"
  }
 },
 "nbformat": 4,
 "nbformat_minor": 5
}
