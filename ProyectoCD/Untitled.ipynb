{
 "cells": [
  {
   "cell_type": "markdown",
   "id": "6309a572-1028-4b3a-b653-edb2eab8bb24",
   "metadata": {},
   "source": [
    "# CONTRASTES EN MÉXICO DE NORTE A SUR "
   ]
  },
  {
   "cell_type": "markdown",
   "id": "25809a13-c538-4305-b20d-8dfff8a7df6b",
   "metadata": {},
   "source": [
    "Herramientas a utilizar: \n",
    "* slicing -> permite extraer partes de secuencias (como listas, tuplas o cadenas de texto)\n",
    "* mapping -> función que aplica una función a cada elemento de un objeto iterable, como una lista o tupla, y devuelve un resultado.\n"
   ]
  },
  {
   "cell_type": "markdown",
   "id": "03bc8ed6",
   "metadata": {},
   "source": []
  }
 ],
 "metadata": {
  "kernelspec": {
   "display_name": "Python 3 (ipykernel)",
   "language": "python",
   "name": "python3"
  },
  "language_info": {
   "codemirror_mode": {
    "name": "ipython",
    "version": 3
   },
   "file_extension": ".py",
   "mimetype": "text/x-python",
   "name": "python",
   "nbconvert_exporter": "python",
   "pygments_lexer": "ipython3",
   "version": "3.12.6"
  }
 },
 "nbformat": 4,
 "nbformat_minor": 5
}
