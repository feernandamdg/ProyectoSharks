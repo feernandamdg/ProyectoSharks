{
  "nbformat": 4,
  "nbformat_minor": 0,
  "metadata": {
    "colab": {
      "private_outputs": true,
      "provenance": []
    },
    "kernelspec": {
      "name": "python3",
      "display_name": "Python 3"
    },
    "language_info": {
      "name": "python"
    }
  },
  "cells": [
    {
      "cell_type": "code",
      "source": [
        "from google.colab import files\n",
        "uploaded = files.upload()  # Subir archivo desde tu dispositivo\n",
        "dfinal3 = pd.read_csv('PIBT_3.csv')\n"
      ],
      "metadata": {
        "collapsed": true,
        "id": "7cNJ17_5DGmA"
      },
      "execution_count": null,
      "outputs": []
    },
    {
      "cell_type": "code",
      "source": [
        "import matplotlib.pyplot as plt\n",
        "\n",
        "# Filtrar filas relevantes (excluyendo las filas con NaN o Conceptos vacíos)\n",
        "df_filtered = dfinal3.dropna(subset=[\"1993 |  T1\", \"1993 |  T2\"])\n",
        "df_filtered = df_filtered[df_filtered[\"Concepto\"] != \"Millones de pesos a precios corrientes\"]\n",
        "\n",
        "# Limitar a las primeras 20 filas para simplificar la gráfica\n",
        "df_filtered = df_filtered.head(20)\n",
        "\n",
        "# Graficar PIB sectorial y rentabilidad\n",
        "plt.figure(figsize=(12, 6))\n",
        "plt.plot(df_filtered[\"Concepto\"], df_filtered[\"1993 |  T1\"], label=\"PIB sectorial\", marker='o')\n",
        "plt.plot(df_filtered[\"Concepto\"], df_filtered[\"1993 |  T2\"], label=\"Rentabilidad real\", marker='x')\n",
        "plt.xticks(rotation=90)\n",
        "plt.ylabel(\"Valor\")\n",
        "plt.title(\"Comparación entre PIB sectorial y rentabilidad (1993, T1 vs T2)\")\n",
        "plt.legend()\n",
        "plt.tight_layout()\n",
        "plt.show()\n"
      ],
      "metadata": {
        "id": "FXuX0EvRGD2j"
      },
      "execution_count": null,
      "outputs": []
    },
    {
      "cell_type": "code",
      "source": [
        "import matplotlib.pyplot as plt\n",
        "from sklearn.preprocessing import MinMaxScaler\n",
        "import pandas as pd\n",
        "\n",
        "# Escalar los datos entre 0 y 1 para mayor claridad\n",
        "scaler = MinMaxScaler()\n",
        "df_scaled = df_filtered.copy()\n",
        "df_scaled[[\"1993 |  T1\", \"1993 |  T2\"]] = scaler.fit_transform(df_filtered[[\"1993 |  T1\", \"1993 |  T2\"]])\n",
        "\n",
        "# Graficar PIB sectorial y rentabilidad escalados\n",
        "plt.figure(figsize=(12, 6))\n",
        "plt.plot(df_scaled[\"Concepto\"], df_scaled[\"1993 |  T1\"], label=\"PIB sectorial (escalado)\", linestyle='-', linewidth=2, marker='o', color='blue')\n",
        "plt.plot(df_scaled[\"Concepto\"], df_scaled[\"1993 |  T2\"], label=\"Rentabilidad real (escalado)\", linestyle='--', linewidth=2, marker='x', color='orange')\n",
        "plt.xticks(rotation=90)\n",
        "plt.ylabel(\"Valor escalado\")\n",
        "plt.title(\"Comparación entre PIB sectorial y rentabilidad (1993, T1 vs T2, escalado)\")\n",
        "plt.legend()\n",
        "plt.tight_layout()\n",
        "plt.show()\n"
      ],
      "metadata": {
        "id": "JTHK1fu5Gice"
      },
      "execution_count": null,
      "outputs": []
    },
    {
      "cell_type": "code",
      "source": [
        "from google.colab import files\n",
        "uploaded = files.upload()  # Subir archivo desde tu dispositivo\n",
        "dfinal3 = pd.read_csv('dfOK.csv')"
      ],
      "metadata": {
        "id": "5ztkahgxVH4p"
      },
      "execution_count": null,
      "outputs": []
    },
    {
      "cell_type": "code",
      "source": [
        "print(dfinal3.columns)\n"
      ],
      "metadata": {
        "collapsed": true,
        "id": "cidHlO7sXjig"
      },
      "execution_count": null,
      "outputs": []
    },
    {
      "cell_type": "code",
      "source": [
        "import matplotlib.pyplot as plt\n",
        "import pandas as pd\n",
        "\n",
        "# Crear la columna \"Negativo\" para identificar actividades con rentabilidad negativa\n",
        "dfinal3[\"Negativo\"] = dfinal3[\"Rentabilidad real\"] < 0\n",
        "\n",
        "# Filtrar actividades con rentabilidad negativa\n",
        "df_negative = dfinal3[dfinal3[\"Negativo\"] == True]\n",
        "\n",
        "# Crear la gráfica\n",
        "plt.figure(figsize=(12, 6))\n",
        "plt.barh(df_negative[\"Concepto\"], df_negative[\"Rentabilidad real\"], color=\"red\")\n",
        "plt.xlabel(\"Rentabilidad Real\")\n",
        "plt.ylabel(\"Actividades Económicas\")\n",
        "plt.title(\"Actividades Económicas con Rentabilidad Negativa\")\n",
        "plt.tight_layout()\n",
        "plt.show()\n"
      ],
      "metadata": {
        "id": "ro9-NZYLU2OE"
      },
      "execution_count": null,
      "outputs": []
    },
    {
      "cell_type": "code",
      "source": [
        "import matplotlib.pyplot as plt\n",
        "import pandas as pd\n",
        "\n",
        "# Crear los datos de las 5 actividades con mayor IED\n",
        "data = {\n",
        "    \"Concepto\": [\n",
        "        \"31-33 - Industrias manufactureras\",\n",
        "        \"52 - Servicios financieros y de seguros\",\n",
        "        \"336 - Fabricación de equipo de transporte\",\n",
        "        \"522 - Instituciones de intermediación crediticia\",\n",
        "        \"3361 - Fabricación de automóviles y camiones\"\n",
        "    ],\n",
        "    \"IDE A MDP\": [644150, 428442, 230858, 199938, 162190],\n",
        "    \"PIB sectorial\": [1790320, 359702, 394246, 280758, 201864]\n",
        "}\n",
        "\n",
        "# Crear un DataFrame\n",
        "df_top_inversion = pd.DataFrame(data)\n",
        "\n",
        "# Crear la gráfica\n",
        "plt.figure(figsize=(12, 6))\n",
        "plt.barh(df_top_inversion[\"Concepto\"], df_top_inversion[\"IDE A MDP\"], color=\"skyblue\", label=\"IDE A MDP\")\n",
        "plt.barh(df_top_inversion[\"Concepto\"], df_top_inversion[\"PIB sectorial\"], color=\"orange\", alpha=0.6, label=\"PIB sectorial\")\n",
        "plt.xlabel(\"Valores (MDP)\")\n",
        "plt.ylabel(\"Actividades Económicas\")\n",
        "plt.title(\"Top 5 Actividades con Mayor Inversión Extranjera Directa\")\n",
        "plt.legend()\n",
        "plt.tight_layout()\n",
        "plt.show()\n"
      ],
      "metadata": {
        "id": "JKWXzEhHcd88"
      },
      "execution_count": null,
      "outputs": []
    }
  ]
}